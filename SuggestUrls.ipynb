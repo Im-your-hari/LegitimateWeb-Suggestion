{
  "nbformat": 4,
  "nbformat_minor": 0,
  "metadata": {
    "colab": {
      "provenance": []
    },
    "kernelspec": {
      "name": "python3",
      "display_name": "Python 3"
    },
    "language_info": {
      "name": "python"
    }
  },
  "cells": [
    {
      "cell_type": "markdown",
      "source": [
        "# **Part 2** : Suggestion.."
      ],
      "metadata": {
        "id": "87Q5lIai_bl6"
      }
    },
    {
      "cell_type": "code",
      "execution_count": 1,
      "metadata": {
        "colab": {
          "base_uri": "https://localhost:8080/"
        },
        "id": "h1xPKEZF2mm2",
        "outputId": "f3fda3ff-1094-4a0c-ea39-34f646707636"
      },
      "outputs": [
        {
          "output_type": "stream",
          "name": "stdout",
          "text": [
            "Collecting googlesearch-python\n",
            "  Downloading googlesearch-python-1.2.3.tar.gz (3.9 kB)\n",
            "  Preparing metadata (setup.py) ... \u001b[?25l\u001b[?25hdone\n",
            "Requirement already satisfied: beautifulsoup4>=4.9 in /usr/local/lib/python3.10/dist-packages (from googlesearch-python) (4.12.3)\n",
            "Requirement already satisfied: requests>=2.20 in /usr/local/lib/python3.10/dist-packages (from googlesearch-python) (2.31.0)\n",
            "Requirement already satisfied: soupsieve>1.2 in /usr/local/lib/python3.10/dist-packages (from beautifulsoup4>=4.9->googlesearch-python) (2.5)\n",
            "Requirement already satisfied: charset-normalizer<4,>=2 in /usr/local/lib/python3.10/dist-packages (from requests>=2.20->googlesearch-python) (3.3.2)\n",
            "Requirement already satisfied: idna<4,>=2.5 in /usr/local/lib/python3.10/dist-packages (from requests>=2.20->googlesearch-python) (3.6)\n",
            "Requirement already satisfied: urllib3<3,>=1.21.1 in /usr/local/lib/python3.10/dist-packages (from requests>=2.20->googlesearch-python) (2.0.7)\n",
            "Requirement already satisfied: certifi>=2017.4.17 in /usr/local/lib/python3.10/dist-packages (from requests>=2.20->googlesearch-python) (2024.2.2)\n",
            "Building wheels for collected packages: googlesearch-python\n",
            "  Building wheel for googlesearch-python (setup.py) ... \u001b[?25l\u001b[?25hdone\n",
            "  Created wheel for googlesearch-python: filename=googlesearch_python-1.2.3-py3-none-any.whl size=4209 sha256=9ef6c7bd1141f4fa44b6831373de9cac1c224b006116a3b69509aea85dec477b\n",
            "  Stored in directory: /root/.cache/pip/wheels/98/24/e9/6c225502948c629b01cc895f86406819281ef0da385f3eb669\n",
            "Successfully built googlesearch-python\n",
            "Installing collected packages: googlesearch-python\n",
            "Successfully installed googlesearch-python-1.2.3\n"
          ]
        }
      ],
      "source": [
        "!pip install googlesearch-python"
      ]
    },
    {
      "cell_type": "code",
      "source": [
        "'''\n",
        "from googlesearch import search\n",
        "\n",
        "url = input(\"Enter Keywords :: \") #Ivde nml ML vach check cheytha url display chytha shesham athinte keywords kodukkunnu...\n",
        "\n",
        "for i in search(url, num_results=3):\n",
        "    print(i)\n",
        "\n",
        "'''"
      ],
      "metadata": {
        "colab": {
          "base_uri": "https://localhost:8080/"
        },
        "id": "pqrpKcNH2rOY",
        "outputId": "dcd787e3-5bb5-48d1-ed89-c764189bfeac"
      },
      "execution_count": 6,
      "outputs": [
        {
          "output_type": "stream",
          "name": "stdout",
          "text": [
            "Enter Keywords :: whatsapplogin com\n",
            "https://www.whatsapp.com/\n",
            "https://commercemarketplace.adobe.com/webkul-module-whatsapplogin.html\n",
            "https://accounts.google.com/ServiceLogin?service=lso&sacu=1&hd=whatsapp.com\n",
            "https://m.aisensy.com/blog/whatsapp-login-guide/\n"
          ]
        }
      ]
    },
    {
      "cell_type": "code",
      "source": [
        "import requests"
      ],
      "metadata": {
        "id": "9_GglUhI6dqr"
      },
      "execution_count": 8,
      "outputs": []
    },
    {
      "cell_type": "code",
      "source": [
        "from urllib.request import urlopen\n",
        "import requests\n",
        "from googlesearch import search\n",
        "from bs4 import BeautifulSoup\n",
        "import urllib.parse\n",
        "from urllib.parse import urlparse\n",
        "\n",
        "headers = {\n",
        "\t'User-Agent' : 'Mozilla/5.0 (Linux; Android 6.0; Nexus 5 Build/MRA58N) AppleWebKit/537.36 (KHTML, like Gecko) Chrome/121.0.0.0 Mobile Safari/537.36',\n",
        "}\n"
      ],
      "metadata": {
        "id": "CgBOSBHi87n-"
      },
      "execution_count": 9,
      "outputs": []
    },
    {
      "cell_type": "markdown",
      "source": [
        "# **Phishing detect cheyyan user input cheyyunna url ivide direct kodukkum...Soo phishing aano enn check cheythathinu shesham kurach urls suggest cheyth tharum...**"
      ],
      "metadata": {
        "id": "TQ8wVBWf-9JW"
      }
    },
    {
      "cell_type": "code",
      "source": [
        "url = input(\"Enter URL :: \") #Ith Phishing aano alle enn ML detact cheyth kazhinj aa timil edkunna input aan...\n",
        "\n",
        "#hostname maathram kittaan...\n",
        "\n",
        "hostname = urlparse(url).hostname\n",
        "hostname = str(hostname)+\"\\n\"\n",
        "hostname2text = hostname\n",
        "\n",
        "\n",
        "# hostnamele . replace cheyth \" \"space add aaki nokkn....\n",
        "\n",
        "hostname2text = hostname2text.replace('.',' ')\n",
        "print(hostname2text)\n",
        "\n",
        "\n",
        "'''\n",
        "try:\n",
        "\n",
        "    response = requests.get(url,headers=headers)\n",
        "\n",
        "    content = response.content\n",
        "\n",
        "    data = BeautifulSoup(response.content,'html.parser')\n",
        "\n",
        "    text = data.get_text()\n",
        "\n",
        "\n",
        "    text = concat(hostname2text,text)\n",
        "    print(text)\n",
        "    #print(\"{} is looks like a legitimate page...\".format(url))\n",
        "\n",
        "\n",
        "\n",
        "except:\n",
        "    #print(\"{} is looks like a phishing page...\".format(url)) #----->Exact phishing aan soo ivde oru flag set chyth phisg_flag=True pinneed ath verify aakm..\n",
        "    text = str(hostname2text)\n",
        "\n",
        "with open(\"coursera/phish2.txt\", \"w\", encoding=\"utf-8\") as f:\n",
        "    f.write(text)\n",
        "    f.close()\n",
        "'''\n",
        "\n",
        "for i in search(hostname2text, num_results=3):\n",
        "    print(i)\n"
      ],
      "metadata": {
        "colab": {
          "base_uri": "https://localhost:8080/"
        },
        "id": "3rtYIvHj8_rH",
        "outputId": "724190bf-f28e-46ef-e296-4ae26faff825"
      },
      "execution_count": 11,
      "outputs": [
        {
          "output_type": "stream",
          "name": "stdout",
          "text": [
            "Enter URL :: http://www.coursera-login-page.org/\n",
            "www coursera-login-page org\n",
            "\n",
            "https://www.coursera.org/login\n",
            "https://www.coursera.org/signup\n",
            "https://www.coursera.org/\n",
            "https://www.coursera.org/courses\n",
            "https://www.coursera.org/courses?query=free\n"
          ]
        }
      ]
    },
    {
      "cell_type": "code",
      "source": [],
      "metadata": {
        "id": "4qJydMRw9NMO"
      },
      "execution_count": null,
      "outputs": []
    }
  ]
}